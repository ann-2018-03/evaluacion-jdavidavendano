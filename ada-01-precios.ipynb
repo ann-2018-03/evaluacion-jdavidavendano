{
 "cells": [
  {
   "cell_type": "code",
   "execution_count": 2,
   "metadata": {},
   "outputs": [],
   "source": [
    "import pandas as pd\n",
    "import numpy as np\n",
    "from matplotlib.pyplot import plot, show\n",
    "%matplotlib inline"
   ]
  },
  {
   "cell_type": "code",
   "execution_count": null,
   "metadata": {
    "scrolled": false
   },
   "outputs": [
    {
     "name": "stdout",
     "output_type": "stream",
     "text": [
      "1995\n",
      "1996\n",
      "1997\n",
      "1998\n",
      "1999\n",
      "2000\n",
      "2001\n",
      "2002\n",
      "2003\n",
      "2004\n",
      "2005\n",
      "2006\n"
     ]
    }
   ],
   "source": [
    "col = [\"day\",\"mean\"]\n",
    "mp = pd.DataFrame(columns = col)\n",
    "checkerDuplicates = set()\n",
    "\n",
    "for year in range(1995, 2019):\n",
    "    print(year)\n",
    "    if year <= 2015:\n",
    "        t = pd.read_excel('datos/precios/Precio_Bolsa_Nacional_($kwh)_'+str(year)+'.xlsx')\n",
    "    else:\n",
    "        t = pd.read_excel('datos/precios/Precio_Bolsa_Nacional_($kwh)_'+str(year)+'.xls')\n",
    "    if year == 2011:\n",
    "        tmpi = 0\n",
    "    for i, row in t.iterrows():\n",
    "        tmpl = []\n",
    "        if year == 2011:\n",
    "            if tmpi < 2:\n",
    "                continue\n",
    "            else: \n",
    "               tmpl = [row[0], np.mean(row[1:-2]), row[-2]]\n",
    "            tmpi += 1\n",
    "        else:\n",
    "            if (i < 2):\n",
    "                continue\n",
    "            if year in [1995,1996,1997,1998,1999,2001,2002,2003,2004,2006,2007,2008,2009,]:\n",
    "                tmpl = [row[0], np.max(np.mean(row[1:]))]\n",
    "            elif year in [2000,2005,2010,2015,2016,2017,2018]: \n",
    "                tmpl = [row[0], np.mean(row[1:-1])]\n",
    "            else:\n",
    "                tmpl = [row[0], np.mean(row[1:-2])]\n",
    "        if tmpl[0] is np.nan:\n",
    "            continue\n",
    "        if not isinstance(tmpl[0], str):\n",
    "            tmpl[0] = \"{:%Y-%m-%d}\".format(tmpl[0])\n",
    "            \n",
    "        if not tmpl[0] in checkerDuplicates:\n",
    "            mp.loc[len(mp), :] = tmpl\n",
    "            checkerDuplicates.add(tmpl[0])\n"
   ]
  },
  {
   "cell_type": "code",
   "execution_count": 3,
   "metadata": {},
   "outputs": [],
   "source": [
    "mp.head()\n",
    "mp.to_csv('allYearPrices.csv')\n"
   ]
  },
  {
   "cell_type": "code",
   "execution_count": 8,
   "metadata": {},
   "outputs": [
    {
     "data": {
      "text/html": [
       "<div>\n",
       "<style scoped>\n",
       "    .dataframe tbody tr th:only-of-type {\n",
       "        vertical-align: middle;\n",
       "    }\n",
       "\n",
       "    .dataframe tbody tr th {\n",
       "        vertical-align: top;\n",
       "    }\n",
       "\n",
       "    .dataframe thead th {\n",
       "        text-align: right;\n",
       "    }\n",
       "</style>\n",
       "<table border=\"1\" class=\"dataframe\">\n",
       "  <thead>\n",
       "    <tr style=\"text-align: right;\">\n",
       "      <th></th>\n",
       "      <th>day</th>\n",
       "      <th>mean</th>\n",
       "    </tr>\n",
       "  </thead>\n",
       "  <tbody>\n",
       "    <tr>\n",
       "      <th>0</th>\n",
       "      <td>1995-07-20</td>\n",
       "      <td>1.40943</td>\n",
       "    </tr>\n",
       "    <tr>\n",
       "      <th>1</th>\n",
       "      <td>1995-07-21</td>\n",
       "      <td>4.92433</td>\n",
       "    </tr>\n",
       "    <tr>\n",
       "      <th>2</th>\n",
       "      <td>1995-07-22</td>\n",
       "      <td>1.2695</td>\n",
       "    </tr>\n",
       "    <tr>\n",
       "      <th>3</th>\n",
       "      <td>1995-07-23</td>\n",
       "      <td>0.953083</td>\n",
       "    </tr>\n",
       "    <tr>\n",
       "      <th>4</th>\n",
       "      <td>1995-07-24</td>\n",
       "      <td>4.30592</td>\n",
       "    </tr>\n",
       "  </tbody>\n",
       "</table>\n",
       "</div>"
      ],
      "text/plain": [
       "          day      mean\n",
       "0  1995-07-20   1.40943\n",
       "1  1995-07-21   4.92433\n",
       "2  1995-07-22    1.2695\n",
       "3  1995-07-23  0.953083\n",
       "4  1995-07-24   4.30592"
      ]
     },
     "execution_count": 8,
     "metadata": {},
     "output_type": "execute_result"
    }
   ],
   "source": [
    "mp.head()"
   ]
  },
  {
   "cell_type": "code",
   "execution_count": 12,
   "metadata": {},
   "outputs": [
    {
     "data": {
      "image/png": "[encoded data removed]",
      "text/plain": [
       "<Figure size 432x288 with 1 Axes>"
      ]
     },
     "metadata": {
      "needs_background": "light"
     },
     "output_type": "display_data"
    }
   ],
   "source": [
    "plot(mp['day'].tolist(), mp['mean'].tolist())\n",
    "show()"
   ]
  },
  {
   "cell_type": "code",
   "execution_count": null,
   "metadata": {
    "scrolled": true
   },
   "outputs": [],
   "source": []
  },
  {
   "cell_type": "code",
   "execution_count": null,
   "metadata": {},
   "outputs": [],
   "source": []
  }
 ],
 "metadata": {
  "kernelspec": {
   "display_name": "Python 3",
   "language": "python",
   "name": "python3"
  },
  "language_info": {
   "codemirror_mode": {
    "name": "ipython",
    "version": 3
   },
   "file_extension": ".py",
   "mimetype": "text/x-python",
   "name": "python",
   "nbconvert_exporter": "python",
   "pygments_lexer": "ipython3",
   "version": "3.7.1"
  }
 },
 "nbformat": 4,
 "nbformat_minor": 2
}
