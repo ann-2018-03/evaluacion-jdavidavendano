{
 "cells": [
  {
   "cell_type": "code",
   "execution_count": 1,
   "metadata": {},
   "outputs": [],
   "source": [
    "import pandas as pd\n",
    "import numpy as np"
   ]
  },
  {
   "cell_type": "code",
   "execution_count": null,
   "metadata": {
    "scrolled": false
   },
   "outputs": [],
   "source": [
    "col = [\"day\",\"mean\"]\n",
    "mp = pd.DataFrame(columns = col)\n",
    "for year in range(1995, 2019):\n",
    "    if year <= 2015:\n",
    "        t = pd.read_excel('datos/precios/Precio_Bolsa_Nacional_($kwh)_'+str(year)+'.xlsx')\n",
    "    else:\n",
    "        t = pd.read_excel('datos/precios/Precio_Bolsa_Nacional_($kwh)_'+str(year)+'.xls')\n",
    "    if year == 2011:\n",
    "        tmpi = 0\n",
    "    for i, row in t.iterrows():\n",
    "        tmpl = []\n",
    "        if year == 2011:\n",
    "            if tmpi < 2:\n",
    "                continue\n",
    "            else: \n",
    "               tmpl = [row[0], np.mean(row[1:-2]), row[-2]]\n",
    "            tmpi += 1\n",
    "        else:\n",
    "            if (i < 2):\n",
    "                continue\n",
    "            if year in [1995,1996,1997,1998,1999,2001,2002,2003,2004,2006,2007,2008,2009,]:\n",
    "                tmpl = [row[0], np.max(np.mean(row[1:]))]\n",
    "            elif year in [2000,2005,2010,2015,2016,2017,2018]: \n",
    "                tmpl = [row[0], np.max(np.mean(row[1:-1]))]\n",
    "            else:\n",
    "                tmpl = [row[0], np.max(np.mean(row[1:-2]))]\n",
    "        if tmpl[0] is np.nan:\n",
    "            continue\n",
    "        if not isinstance(tmpl[0], str):\n",
    "            tmpl[0] = \"{:%Y-%m-%d}\".format(tmpl[0])\n",
    "        \n",
    "        mp.loc[len(mp), :] = tmpl\n"
   ]
  },
  {
   "cell_type": "code",
   "execution_count": null,
   "metadata": {},
   "outputs": [],
   "source": [
    "mp.head()\n",
    "mp.to_csv('allYearPrices.csv')\n"
   ]
  },
  {
   "cell_type": "code",
   "execution_count": null,
   "metadata": {},
   "outputs": [],
   "source": [
    "mp.head()\n"
   ]
  },
  {
   "cell_type": "code",
   "execution_count": null,
   "metadata": {},
   "outputs": [],
   "source": [
    "for year in range(1995, 2019):\n",
    "    print(year)\n",
    "    if year <= 2015:\n",
    "        t = pd.read_excel('datos/precios/Precio_Bolsa_Nacional_($kwh)_'+str(year)+'.xlsx')\n",
    "    else:\n",
    "        t = pd.read_excel('datos/precios/Precio_Bolsa_Nacional_($kwh)_'+str(year)+'.xls')\n",
    "    print(t.columns.values.tolist())"
   ]
  },
  {
   "cell_type": "code",
   "execution_count": null,
   "metadata": {
    "scrolled": true
   },
   "outputs": [],
   "source": [
    "t = pd.read_excel('datos/precios/Precio_Bolsa_Nacional_($kwh)_1997.xlsx')\n",
    "t.head()"
   ]
  },
  {
   "cell_type": "code",
   "execution_count": null,
   "metadata": {},
   "outputs": [],
   "source": []
  }
 ],
 "metadata": {
  "kernelspec": {
   "display_name": "Python 3",
   "language": "python",
   "name": "python3"
  },
  "language_info": {
   "codemirror_mode": {
    "name": "ipython",
    "version": 3
   },
   "file_extension": ".py",
   "mimetype": "text/x-python",
   "name": "python",
   "nbconvert_exporter": "python",
   "pygments_lexer": "ipython3",
   "version": "3.7.1"
  }
 },
 "nbformat": 4,
 "nbformat_minor": 2
}
