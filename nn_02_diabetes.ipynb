{
 "cells": [
  {
   "cell_type": "code",
   "execution_count": 1,
   "metadata": {},
   "outputs": [],
   "source": [
    "import pandas as pd\n",
    "import numpy as np\n",
    "import matplotlib.pyplot as plt \n",
    "import seaborn as sns\n",
    "from sklearn.model_selection import train_test_split\n",
    "\n",
    "from sklearn.preprocessing import StandardScaler\n",
    "from sklearn.neural_network import MLPClassifier\n",
    "from sklearn.metrics import classification_report,confusion_matrix\n",
    "\n",
    "%matplotlib inline"
   ]
  },
  {
   "cell_type": "code",
   "execution_count": 2,
   "metadata": {},
   "outputs": [],
   "source": [
    "dbDiabetes = pd.read_csv('datos/diabetes.csv')"
   ]
  },
  {
   "cell_type": "code",
   "execution_count": 3,
   "metadata": {},
   "outputs": [],
   "source": [
    "X = dbDiabetes[['age', 'sex', 'bmi', 'bp', 's1', 's2', 's3', 's4', 's5', 's6']]\n",
    "Y = dbDiabetes['Y']\n",
    "X_train, X_test, Y_train, Y_test = train_test_split(X, Y, test_size=0.1)"
   ]
  },
  {
   "cell_type": "code",
   "execution_count": 4,
   "metadata": {},
   "outputs": [],
   "source": [
    "scaler = StandardScaler()"
   ]
  },
  {
   "cell_type": "code",
   "execution_count": 5,
   "metadata": {},
   "outputs": [
    {
     "data": {
      "text/plain": [
       "StandardScaler(copy=True, with_mean=True, with_std=True)"
      ]
     },
     "execution_count": 5,
     "metadata": {},
     "output_type": "execute_result"
    }
   ],
   "source": [
    "scaler.fit(X_train)"
   ]
  },
  {
   "cell_type": "code",
   "execution_count": 6,
   "metadata": {},
   "outputs": [],
   "source": [
    "X_train = scaler.transform(X_train)\n",
    "X_test = scaler.transform(X_test)"
   ]
  },
  {
   "cell_type": "code",
   "execution_count": 7,
   "metadata": {},
   "outputs": [],
   "source": [
    "mlp = MLPClassifier(hidden_layer_sizes=(10,20,20),max_iter=1000)"
   ]
  },
  {
   "cell_type": "code",
   "execution_count": 8,
   "metadata": {},
   "outputs": [
    {
     "name": "stderr",
     "output_type": "stream",
     "text": [
      "/root/anaconda3/lib/python3.7/site-packages/sklearn/neural_network/multilayer_perceptron.py:562: ConvergenceWarning: Stochastic Optimizer: Maximum iterations (1000) reached and the optimization hasn't converged yet.\n",
      "  % self.max_iter, ConvergenceWarning)\n"
     ]
    },
    {
     "data": {
      "text/plain": [
       "MLPClassifier(activation='relu', alpha=0.0001, batch_size='auto', beta_1=0.9,\n",
       "       beta_2=0.999, early_stopping=False, epsilon=1e-08,\n",
       "       hidden_layer_sizes=(10, 20, 20), learning_rate='constant',\n",
       "       learning_rate_init=0.001, max_iter=1000, momentum=0.9,\n",
       "       n_iter_no_change=10, nesterovs_momentum=True, power_t=0.5,\n",
       "       random_state=None, shuffle=True, solver='adam', tol=0.0001,\n",
       "       validation_fraction=0.1, verbose=False, warm_start=False)"
      ]
     },
     "execution_count": 8,
     "metadata": {},
     "output_type": "execute_result"
    }
   ],
   "source": [
    "mlp.fit(X_train,Y_train)"
   ]
  },
  {
   "cell_type": "code",
   "execution_count": 9,
   "metadata": {},
   "outputs": [],
   "source": [
    "predictions = mlp.predict(X_test)"
   ]
  },
  {
   "cell_type": "code",
   "execution_count": 10,
   "metadata": {},
   "outputs": [
    {
     "name": "stdout",
     "output_type": "stream",
     "text": [
      "[[0 0 0 ... 0 0 0]\n",
      " [0 0 0 ... 0 0 0]\n",
      " [0 0 0 ... 0 0 0]\n",
      " ...\n",
      " [0 0 0 ... 0 0 0]\n",
      " [0 0 0 ... 0 0 0]\n",
      " [0 0 0 ... 0 0 0]]\n"
     ]
    }
   ],
   "source": [
    "\n",
    "\n",
    "print(confusion_matrix(Y_test,predictions))\n",
    "\n"
   ]
  },
  {
   "cell_type": "code",
   "execution_count": 11,
   "metadata": {},
   "outputs": [
    {
     "name": "stdout",
     "output_type": "stream",
     "text": [
      "              precision    recall  f1-score   support\n",
      "\n",
      "        42.0       0.00      0.00      0.00         0\n",
      "        48.0       0.00      0.00      0.00         0\n",
      "        52.0       0.00      0.00      0.00         0\n",
      "        53.0       0.00      0.00      0.00         1\n",
      "        54.0       0.00      0.00      0.00         1\n",
      "        55.0       0.00      0.00      0.00         0\n",
      "        58.0       0.00      0.00      0.00         1\n",
      "        59.0       0.00      0.00      0.00         1\n",
      "        60.0       0.00      0.00      0.00         1\n",
      "        63.0       0.00      0.00      0.00         0\n",
      "        65.0       0.00      0.00      0.00         1\n",
      "        68.0       0.00      0.00      0.00         0\n",
      "        69.0       0.00      0.00      0.00         1\n",
      "        70.0       0.00      0.00      0.00         1\n",
      "        72.0       0.00      0.00      0.00         0\n",
      "        77.0       0.00      0.00      0.00         0\n",
      "        78.0       0.00      0.00      0.00         1\n",
      "        80.0       0.00      0.00      0.00         0\n",
      "        81.0       0.00      0.00      0.00         1\n",
      "        85.0       0.00      0.00      0.00         1\n",
      "        86.0       0.00      0.00      0.00         1\n",
      "        91.0       0.00      0.00      0.00         1\n",
      "        94.0       0.00      0.00      0.00         0\n",
      "       109.0       0.00      0.00      0.00         0\n",
      "       110.0       0.00      0.00      0.00         0\n",
      "       114.0       0.00      0.00      0.00         0\n",
      "       118.0       0.00      0.00      0.00         1\n",
      "       120.0       0.00      0.00      0.00         1\n",
      "       122.0       0.00      0.00      0.00         0\n",
      "       128.0       0.00      0.00      0.00         1\n",
      "       129.0       0.00      0.00      0.00         0\n",
      "       137.0       0.00      0.00      0.00         1\n",
      "       138.0       0.00      0.00      0.00         1\n",
      "       140.0       0.00      0.00      0.00         1\n",
      "       142.0       0.00      0.00      0.00         1\n",
      "       144.0       0.00      0.00      0.00         0\n",
      "       151.0       0.00      0.00      0.00         1\n",
      "       152.0       0.00      0.00      0.00         0\n",
      "       155.0       0.00      0.00      0.00         1\n",
      "       161.0       0.00      0.00      0.00         1\n",
      "       168.0       0.00      0.00      0.00         1\n",
      "       170.0       0.00      0.00      0.00         0\n",
      "       172.0       0.00      0.00      0.00         0\n",
      "       173.0       0.00      0.00      0.00         0\n",
      "       178.0       0.00      0.00      0.00         0\n",
      "       184.0       0.00      0.00      0.00         1\n",
      "       185.0       0.00      0.00      0.00         1\n",
      "       192.0       0.00      0.00      0.00         1\n",
      "       197.0       0.00      0.00      0.00         2\n",
      "       200.0       0.00      0.00      0.00         1\n",
      "       202.0       0.00      0.00      0.00         0\n",
      "       217.0       0.00      0.00      0.00         0\n",
      "       220.0       0.00      0.00      0.00         1\n",
      "       232.0       0.00      0.00      0.00         1\n",
      "       233.0       0.00      0.00      0.00         0\n",
      "       235.0       0.00      0.00      0.00         0\n",
      "       237.0       0.00      0.00      0.00         1\n",
      "       242.0       0.00      0.00      0.00         1\n",
      "       244.0       0.00      0.00      0.00         0\n",
      "       246.0       0.00      0.00      0.00         1\n",
      "       249.0       0.00      0.00      0.00         0\n",
      "       253.0       0.00      0.00      0.00         1\n",
      "       262.0       0.00      0.00      0.00         0\n",
      "       263.0       0.00      0.00      0.00         0\n",
      "       270.0       0.00      0.00      0.00         1\n",
      "       275.0       0.00      0.00      0.00         0\n",
      "       277.0       0.00      0.00      0.00         0\n",
      "       281.0       0.00      0.00      0.00         1\n",
      "       288.0       0.00      0.00      0.00         1\n",
      "       293.0       0.00      0.00      0.00         1\n",
      "       296.0       0.00      0.00      0.00         0\n",
      "       303.0       0.00      0.00      0.00         0\n",
      "       306.0       0.00      0.00      0.00         1\n",
      "       308.0       0.00      0.00      0.00         1\n",
      "       310.0       0.00      0.00      0.00         2\n",
      "       332.0       0.00      0.00      0.00         1\n",
      "\n",
      "   micro avg       0.00      0.00      0.00        45\n",
      "   macro avg       0.00      0.00      0.00        45\n",
      "weighted avg       0.00      0.00      0.00        45\n",
      "\n"
     ]
    },
    {
     "name": "stderr",
     "output_type": "stream",
     "text": [
      "/root/anaconda3/lib/python3.7/site-packages/sklearn/metrics/classification.py:1143: UndefinedMetricWarning: Precision and F-score are ill-defined and being set to 0.0 in labels with no predicted samples.\n",
      "  'precision', 'predicted', average, warn_for)\n",
      "/root/anaconda3/lib/python3.7/site-packages/sklearn/metrics/classification.py:1145: UndefinedMetricWarning: Recall and F-score are ill-defined and being set to 0.0 in labels with no true samples.\n",
      "  'recall', 'true', average, warn_for)\n",
      "/root/anaconda3/lib/python3.7/site-packages/sklearn/metrics/classification.py:1143: UndefinedMetricWarning: Precision and F-score are ill-defined and being set to 0.0 in labels with no predicted samples.\n",
      "  'precision', 'predicted', average, warn_for)\n",
      "/root/anaconda3/lib/python3.7/site-packages/sklearn/metrics/classification.py:1145: UndefinedMetricWarning: Recall and F-score are ill-defined and being set to 0.0 in labels with no true samples.\n",
      "  'recall', 'true', average, warn_for)\n",
      "/root/anaconda3/lib/python3.7/site-packages/sklearn/metrics/classification.py:1143: UndefinedMetricWarning: Precision and F-score are ill-defined and being set to 0.0 in labels with no predicted samples.\n",
      "  'precision', 'predicted', average, warn_for)\n",
      "/root/anaconda3/lib/python3.7/site-packages/sklearn/metrics/classification.py:1145: UndefinedMetricWarning: Recall and F-score are ill-defined and being set to 0.0 in labels with no true samples.\n",
      "  'recall', 'true', average, warn_for)\n"
     ]
    }
   ],
   "source": [
    "print(classification_report(Y_test,predictions))"
   ]
  },
  {
   "cell_type": "code",
   "execution_count": null,
   "metadata": {},
   "outputs": [],
   "source": []
  },
  {
   "cell_type": "code",
   "execution_count": null,
   "metadata": {},
   "outputs": [],
   "source": []
  },
  {
   "cell_type": "code",
   "execution_count": null,
   "metadata": {},
   "outputs": [],
   "source": []
  },
  {
   "cell_type": "code",
   "execution_count": null,
   "metadata": {},
   "outputs": [],
   "source": []
  }
 ],
 "metadata": {
  "kernelspec": {
   "display_name": "Python 3",
   "language": "python",
   "name": "python3"
  },
  "language_info": {
   "codemirror_mode": {
    "name": "ipython",
    "version": 3
   },
   "file_extension": ".py",
   "mimetype": "text/x-python",
   "name": "python",
   "nbconvert_exporter": "python",
   "pygments_lexer": "ipython3",
   "version": "3.7.1"
  }
 },
 "nbformat": 4,
 "nbformat_minor": 2
}
